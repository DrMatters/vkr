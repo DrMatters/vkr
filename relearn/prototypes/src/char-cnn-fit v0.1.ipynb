{
 "cells": [
  {
   "cell_type": "code",
   "execution_count": 2,
   "metadata": {
    "pycharm": {
     "is_executing": false
    }
   },
   "outputs": [],
   "source": [
    "import pandas as pd\n",
    "import numpy as np\n",
    "from sklearn import model_selection\n",
    "import joblib\n",
    "import os\n",
    "\n",
    "\n",
    "%matplotlib inline"
   ]
  },
  {
   "cell_type": "code",
   "execution_count": 3,
   "metadata": {},
   "outputs": [],
   "source": [
    "os.environ['GOOGLE_APPLICATION_CREDENTIALS'] = './ai-moderator-b18e81abdc4a.json'"
   ]
  },
  {
   "cell_type": "markdown",
   "metadata": {},
   "source": [
    "#### Constants"
   ]
  },
  {
   "cell_type": "code",
   "execution_count": 4,
   "metadata": {},
   "outputs": [],
   "source": [
    "RANDOM_SEED = 42\n",
    "DICT_SIZE = 10000\n",
    "TEST_SIZE = 10000\n",
    "DEV_SIZE = 10000\n",
    "PATH = '/communities/default/versions/char-cnn/'\n",
    "\n",
    "TRAIN = False\n",
    "UPLOAD = False"
   ]
  },
  {
   "cell_type": "markdown",
   "metadata": {},
   "source": [
    "## Preparations"
   ]
  },
  {
   "cell_type": "markdown",
   "metadata": {},
   "source": [
    "TODO: Make pip python package `GoogleCloudStorageWrapper`"
   ]
  },
  {
   "cell_type": "code",
   "execution_count": 8,
   "metadata": {},
   "outputs": [],
   "source": [
    "import base64\n",
    "import hashlib\n",
    "from os import path\n",
    "\n",
    "from google.api_core import exceptions as g_exceptions\n",
    "from google.cloud import storage as g_storage\n",
    "\n",
    "\n",
    "class GoogleCloudStorageWrapper:\n",
    "    @staticmethod\n",
    "    def md5_base64(filename):\n",
    "        \"\"\"Returns md5 hash with base of 64\"\"\"\n",
    "        hash_md5 = hashlib.md5()\n",
    "        with open(filename, \"rb\") as f:\n",
    "            for chunk in iter(lambda: f.read(4096), b\"\"):\n",
    "                hash_md5.update(chunk)\n",
    "        hash_md5_base64 = base64.b64encode(hash_md5.digest()).decode('utf-8')\n",
    "        return hash_md5_base64\n",
    "\n",
    "    @staticmethod\n",
    "    def lazy_upload_blob(bucket_name, source_file_name, destination_blob_name):\n",
    "        \"\"\"Uploads a file to the bucket if it has different hash.\"\"\"\n",
    "        storage_client = g_storage.Client()\n",
    "        bucket = storage_client.get_bucket(bucket_name)\n",
    "        blob = bucket.blob(destination_blob_name)\n",
    "\n",
    "        remote_blob = bucket.get_blob(destination_blob_name)\n",
    "\n",
    "        local_md5 = GoogleCloudStorageWrapper.md5_base64(source_file_name)\n",
    "\n",
    "        if remote_blob is not None:\n",
    "            remote_md5 = remote_blob.md5_hash\n",
    "            if remote_md5 == local_md5:\n",
    "#                 print(f'Blob `{destination_blob_name} is '\n",
    "#                       f'already in bucket `{bucket_name}`')\n",
    "                return\n",
    "\n",
    "#             print(f'Updating blob `{destination_blob_name}` in '\n",
    "#                   f'bucket `{bucket_name}` from `{source_file_name}`')\n",
    "\n",
    "        blob.upload_from_filename(source_file_name)\n",
    "\n",
    "        # check for integrity of uploaded file\n",
    "        uploaded_blob = bucket.get_blob(destination_blob_name)\n",
    "        uploaded_md5 = uploaded_blob.md5_hash\n",
    "        if uploaded_md5 != local_md5:\n",
    "            raise g_exceptions.DataLoss('Downloaded file differs from remote')\n",
    "\n",
    "#         print(f'File `{source_file_name}` successfully uploaded '\n",
    "#               f'to `{destination_blob_name}` of bucket `{bucket_name}`')\n",
    "\n",
    "    @staticmethod\n",
    "    def lazy_download_blob(bucket_name, source_blob_name, destination_file_name):\n",
    "        \"\"\"Downloads a blob from the bucket if the local version of file differs\n",
    "        from the remote version (calculated using md5 hash).\"\"\"\n",
    "\n",
    "        storage_client = g_storage.Client()\n",
    "        bucket = storage_client.get_bucket(bucket_name)\n",
    "        blob = bucket.blob(source_blob_name)\n",
    "        remote_blob = bucket.get_blob(source_blob_name)\n",
    "\n",
    "        remote_md5 = remote_blob.md5_hash\n",
    "\n",
    "        if path.exists(destination_file_name):\n",
    "            local_md5 = GoogleCloudStorageWrapper.md5_base64(destination_file_name)\n",
    "            if remote_md5 == local_md5:\n",
    "#                 print(f'Blob {source_blob_name} is already downloaded to {destination_file_name}')\n",
    "                return\n",
    "\n",
    "        blob.download_to_filename(destination_file_name)\n",
    "\n",
    "        # check for integrity of downloaded file\n",
    "        downloaded_md5 = GoogleCloudStorageWrapper.md5_base64(destination_file_name)\n",
    "        if remote_md5 != downloaded_md5:\n",
    "            raise g_exceptions.DataLoss('Downloaded file differs from remote')\n",
    "\n",
    "#         print(f'Blob {source_blob_name} successfully downloaded to {destination_file_name}')\n"
   ]
  },
  {
   "cell_type": "markdown",
   "metadata": {},
   "source": [
    "Create temporary folder for files"
   ]
  },
  {
   "cell_type": "code",
   "execution_count": 9,
   "metadata": {},
   "outputs": [],
   "source": [
    "if not os.path.exists('./temp-files/'):\n",
    "    os.mkdir('./temp-files/')"
   ]
  },
  {
   "cell_type": "markdown",
   "metadata": {},
   "source": [
    "Download dataset from google cloud."
   ]
  },
  {
   "cell_type": "code",
   "execution_count": 10,
   "metadata": {},
   "outputs": [],
   "source": [
    "GoogleCloudStorageWrapper.lazy_download_blob(bucket_name='communities-models',\n",
    "                                             source_blob_name='/data/toxic-comment/core.csv',\n",
    "                                             destination_file_name='./temp-files/core.csv')"
   ]
  },
  {
   "cell_type": "markdown",
   "metadata": {
    "pycharm": {}
   },
   "source": [
    "Load dataset"
   ]
  },
  {
   "cell_type": "code",
   "execution_count": 11,
   "metadata": {
    "pycharm": {},
    "scrolled": false
   },
   "outputs": [
    {
     "name": "stdout",
     "output_type": "stream",
     "text": [
      "<class 'pandas.core.frame.DataFrame'>\n",
      "RangeIndex: 159571 entries, 0 to 159570\n",
      "Data columns (total 3 columns):\n",
      "id              159571 non-null object\n",
      "comment_text    159571 non-null object\n",
      "base_class      159571 non-null int64\n",
      "dtypes: int64(1), object(2)\n",
      "memory usage: 3.7+ MB\n"
     ]
    }
   ],
   "source": [
    "core = pd.read_csv(\"./temp-files/core.csv\")\n",
    "core.loc[:, 'comment_text'] = core.loc[:, 'comment_text'].str.lower()\n",
    "core.info()"
   ]
  },
  {
   "cell_type": "code",
   "execution_count": 12,
   "metadata": {},
   "outputs": [
    {
     "data": {
      "text/html": [
       "<div>\n",
       "<style scoped>\n",
       "    .dataframe tbody tr th:only-of-type {\n",
       "        vertical-align: middle;\n",
       "    }\n",
       "\n",
       "    .dataframe tbody tr th {\n",
       "        vertical-align: top;\n",
       "    }\n",
       "\n",
       "    .dataframe thead th {\n",
       "        text-align: right;\n",
       "    }\n",
       "</style>\n",
       "<table border=\"1\" class=\"dataframe\">\n",
       "  <thead>\n",
       "    <tr style=\"text-align: right;\">\n",
       "      <th></th>\n",
       "      <th>id</th>\n",
       "      <th>comment_text</th>\n",
       "      <th>base_class</th>\n",
       "      <th>len</th>\n",
       "    </tr>\n",
       "  </thead>\n",
       "  <tbody>\n",
       "    <tr>\n",
       "      <th>0</th>\n",
       "      <td>0000997932d777bf</td>\n",
       "      <td>explanation\\nwhy the edits made under my usern...</td>\n",
       "      <td>0</td>\n",
       "      <td>264</td>\n",
       "    </tr>\n",
       "    <tr>\n",
       "      <th>1</th>\n",
       "      <td>000103f0d9cfb60f</td>\n",
       "      <td>d'aww! he matches this background colour i'm s...</td>\n",
       "      <td>0</td>\n",
       "      <td>112</td>\n",
       "    </tr>\n",
       "  </tbody>\n",
       "</table>\n",
       "</div>"
      ],
      "text/plain": [
       "                 id                                       comment_text  \\\n",
       "0  0000997932d777bf  explanation\\nwhy the edits made under my usern...   \n",
       "1  000103f0d9cfb60f  d'aww! he matches this background colour i'm s...   \n",
       "\n",
       "   base_class  len  \n",
       "0           0  264  \n",
       "1           0  112  "
      ]
     },
     "execution_count": 12,
     "metadata": {},
     "output_type": "execute_result"
    }
   ],
   "source": [
    "core = core.assign(len=core['comment_text'].str.len())\n",
    "core.head(2)"
   ]
  },
  {
   "cell_type": "code",
   "execution_count": 13,
   "metadata": {},
   "outputs": [
    {
     "name": "stdout",
     "output_type": "stream",
     "text": [
      "139571 10000 10000\n"
     ]
    },
    {
     "data": {
      "text/html": [
       "<div>\n",
       "<style scoped>\n",
       "    .dataframe tbody tr th:only-of-type {\n",
       "        vertical-align: middle;\n",
       "    }\n",
       "\n",
       "    .dataframe tbody tr th {\n",
       "        vertical-align: top;\n",
       "    }\n",
       "\n",
       "    .dataframe thead th {\n",
       "        text-align: right;\n",
       "    }\n",
       "</style>\n",
       "<table border=\"1\" class=\"dataframe\">\n",
       "  <thead>\n",
       "    <tr style=\"text-align: right;\">\n",
       "      <th></th>\n",
       "      <th>id</th>\n",
       "      <th>comment_text</th>\n",
       "      <th>base_class</th>\n",
       "      <th>len</th>\n",
       "    </tr>\n",
       "  </thead>\n",
       "  <tbody>\n",
       "    <tr>\n",
       "      <th>62257</th>\n",
       "      <td>a696d526522491f3</td>\n",
       "      <td>, i agree, but until yesterday i was simply st...</td>\n",
       "      <td>0</td>\n",
       "      <td>258</td>\n",
       "    </tr>\n",
       "    <tr>\n",
       "      <th>53024</th>\n",
       "      <td>8db3c98f026f4df8</td>\n",
       "      <td>\"\\n agree with gamaliel. i don't see any harm ...</td>\n",
       "      <td>0</td>\n",
       "      <td>143</td>\n",
       "    </tr>\n",
       "    <tr>\n",
       "      <th>14787</th>\n",
       "      <td>270e407e9efd6c28</td>\n",
       "      <td>\"\\n\\nspeedy deletion of the wrong trousers (ba...</td>\n",
       "      <td>0</td>\n",
       "      <td>1291</td>\n",
       "    </tr>\n",
       "  </tbody>\n",
       "</table>\n",
       "</div>"
      ],
      "text/plain": [
       "                     id                                       comment_text  \\\n",
       "62257  a696d526522491f3  , i agree, but until yesterday i was simply st...   \n",
       "53024  8db3c98f026f4df8  \"\\n agree with gamaliel. i don't see any harm ...   \n",
       "14787  270e407e9efd6c28  \"\\n\\nspeedy deletion of the wrong trousers (ba...   \n",
       "\n",
       "       base_class   len  \n",
       "62257           0   258  \n",
       "53024           0   143  \n",
       "14787           0  1291  "
      ]
     },
     "execution_count": 13,
     "metadata": {},
     "output_type": "execute_result"
    }
   ],
   "source": [
    "train, test = model_selection.train_test_split(core, test_size=(TEST_SIZE + DEV_SIZE), random_state=RANDOM_SEED,\n",
    "                                               stratify=core.loc[:, 'base_class'])\n",
    "dev, test = model_selection.train_test_split(test, test_size=TEST_SIZE, random_state=RANDOM_SEED,\n",
    "                                             stratify=test.loc[:, 'base_class'])\n",
    "print(len(train), len(test), len(dev))\n",
    "train.head(3)"
   ]
  },
  {
   "cell_type": "markdown",
   "metadata": {},
   "source": [
    "CNN requires to limit the length of the message by the selected amount of letter, so take a look into dataset to select the amount of letters to use"
   ]
  },
  {
   "cell_type": "code",
   "execution_count": 14,
   "metadata": {},
   "outputs": [],
   "source": [
    "import matplotlib.pyplot as plt"
   ]
  },
  {
   "cell_type": "code",
   "execution_count": 15,
   "metadata": {},
   "outputs": [
    {
     "data": {
      "text/plain": [
       "<matplotlib.axes._subplots.AxesSubplot at 0x7f3ac7d1d668>"
      ]
     },
     "execution_count": 15,
     "metadata": {},
     "output_type": "execute_result"
    },
    {
     "data": {
      "image/png": "[encoded data removed]",
      "text/plain": [
       "<Figure size 504x504 with 1 Axes>"
      ]
     },
     "metadata": {
      "needs_background": "light"
     },
     "output_type": "display_data"
    }
   ],
   "source": [
    "plt.figure(figsize=(7,7))\n",
    "core['len'].plot.kde()"
   ]
  },
  {
   "cell_type": "code",
   "execution_count": 16,
   "metadata": {},
   "outputs": [
    {
     "data": {
      "text/plain": [
       "<matplotlib.axes._subplots.AxesSubplot at 0x7f3ae7d1e6d8>"
      ]
     },
     "execution_count": 16,
     "metadata": {},
     "output_type": "execute_result"
    },
    {
     "data": {
      "image/png": "[encoded data removed]",
      "text/plain": [
       "<Figure size 504x504 with 1 Axes>"
      ]
     },
     "metadata": {
      "needs_background": "light"
     },
     "output_type": "display_data"
    }
   ],
   "source": [
    "plt.figure(figsize=(7,7))\n",
    "core.loc[core['base_class'] == 1, 'len'].plot.kde()"
   ]
  },
  {
   "cell_type": "code",
   "execution_count": 17,
   "metadata": {},
   "outputs": [
    {
     "data": {
      "text/plain": [
       "<matplotlib.axes._subplots.AxesSubplot at 0x7f3addfb19e8>"
      ]
     },
     "execution_count": 17,
     "metadata": {},
     "output_type": "execute_result"
    },
    {
     "data": {
      "image/png": "[encoded data removed]",
      "text/plain": [
       "<Figure size 504x504 with 1 Axes>"
      ]
     },
     "metadata": {
      "needs_background": "light"
     },
     "output_type": "display_data"
    }
   ],
   "source": [
    "plt.figure(figsize=(7,7))\n",
    "core.loc[core['base_class'] == 0, 'len'].plot.kde()"
   ]
  },
  {
   "cell_type": "markdown",
   "metadata": {},
   "source": [
    "looks like most of messages fits into 1500-2000 range  \n",
    "let's check it"
   ]
  },
  {
   "cell_type": "code",
   "execution_count": 18,
   "metadata": {},
   "outputs": [
    {
     "data": {
      "text/plain": [
       "1355.0"
      ]
     },
     "execution_count": 18,
     "metadata": {},
     "output_type": "execute_result"
    }
   ],
   "source": [
    "core['len'].quantile(q=0.95)"
   ]
  },
  {
   "cell_type": "markdown",
   "metadata": {},
   "source": [
    "95% of messages fits in 1353 letters\n",
    "\n",
    "---"
   ]
  },
  {
   "cell_type": "code",
   "execution_count": 19,
   "metadata": {},
   "outputs": [
    {
     "data": {
      "text/plain": [
       "1021.0"
      ]
     },
     "execution_count": 19,
     "metadata": {},
     "output_type": "execute_result"
    }
   ],
   "source": [
    "core.loc[core['base_class'] == 1, 'len'].quantile(q=0.95)"
   ]
  },
  {
   "cell_type": "markdown",
   "metadata": {},
   "source": [
    "95% of toxic messages fits in about 1000 letters\n",
    "\n",
    "---"
   ]
  },
  {
   "cell_type": "code",
   "execution_count": 20,
   "metadata": {},
   "outputs": [
    {
     "data": {
      "text/plain": [
       "1386.0"
      ]
     },
     "execution_count": 20,
     "metadata": {},
     "output_type": "execute_result"
    }
   ],
   "source": [
    "core.loc[core['base_class'] == 0, 'len'].quantile(q=0.95)"
   ]
  },
  {
   "cell_type": "markdown",
   "metadata": {},
   "source": [
    "95% of correct messages fits in about 1400 letters\n",
    "\n",
    "---"
   ]
  },
  {
   "cell_type": "markdown",
   "metadata": {},
   "source": [
    "This means that we can cut our messages on about 1500 letters without having much information lost"
   ]
  },
  {
   "cell_type": "code",
   "execution_count": 21,
   "metadata": {},
   "outputs": [],
   "source": [
    "MESSAGE_LEN_CHAR = 1500"
   ]
  },
  {
   "cell_type": "markdown",
   "metadata": {},
   "source": [
    "## Juicy part"
   ]
  },
  {
   "cell_type": "code",
   "execution_count": 22,
   "metadata": {},
   "outputs": [],
   "source": [
    "VOCAB_SIZE=256"
   ]
  },
  {
   "cell_type": "code",
   "execution_count": 23,
   "metadata": {},
   "outputs": [],
   "source": [
    "from tensorflow.keras.preprocessing import text\n",
    "from tensorflow.keras.preprocessing import sequence"
   ]
  },
  {
   "cell_type": "code",
   "execution_count": 24,
   "metadata": {},
   "outputs": [],
   "source": [
    "if TRAIN:\n",
    "    #=======================Convert string to index================\n",
    "    # Tokenizer\n",
    "    tokenizer = text.Tokenizer(num_words=VOCAB_SIZE, char_level=True, oov_token='UNK', split='', lower=True)\n",
    "    tokenizer.fit_on_texts(train['comment_text'])"
   ]
  },
  {
   "cell_type": "code",
   "execution_count": 25,
   "metadata": {},
   "outputs": [],
   "source": [
    "if TRAIN:\n",
    "    # Convert string to index \n",
    "    train_sequences = tokenizer.texts_to_sequences(train['comment_text'])\n",
    "\n",
    "    # Padding sequences\n",
    "    train_data = sequence.pad_sequences(train_sequences, maxlen=MESSAGE_LEN_CHAR, padding='post')"
   ]
  },
  {
   "cell_type": "markdown",
   "metadata": {},
   "source": [
    "## Model"
   ]
  },
  {
   "cell_type": "code",
   "execution_count": 26,
   "metadata": {},
   "outputs": [],
   "source": [
    "from tensorflow.keras import layers # Input, Embedding, Activation, Flatten, Dense\n",
    "                                    # Conv1D, MaxPooling1D, Dropout\n",
    "from tensorflow.keras import models # Model"
   ]
  },
  {
   "cell_type": "code",
   "execution_count": 27,
   "metadata": {},
   "outputs": [],
   "source": [
    "EMBEDDING_SIZE = 50\n",
    "             # filters_num, filters_size, pooling_size\n",
    "conv_layers = [[4, 7, 3 ], \n",
    "               [8, 7, 3 ], \n",
    "               [16, 3, -1], \n",
    "               [32, 3, -1], \n",
    "               [64, 3, -1], \n",
    "               [128, 3, 3 ]]\n",
    "\n",
    "fully_connected_layers = [15]\n",
    "dropout_p = 0.5"
   ]
  },
  {
   "cell_type": "code",
   "execution_count": 28,
   "metadata": {},
   "outputs": [],
   "source": [
    "if TRAIN:\n",
    "    # Input\n",
    "    inputs = layers.Input(shape=(MESSAGE_LEN_CHAR,), name='input', dtype='int32')\n",
    "\n",
    "    # Embedding layer Initialization\n",
    "    x = layers.Embedding(input_dim=(VOCAB_SIZE + 1),\n",
    "                         output_dim=EMBEDDING_SIZE,\n",
    "                         input_length=MESSAGE_LEN_CHAR)(inputs)\n",
    "\n",
    "    # Conv\n",
    "    for filter_num, filter_size, pooling_size in conv_layers:\n",
    "        x = layers.Conv1D(filter_num, filter_size)(x) \n",
    "        x = layers.Activation('relu')(x)\n",
    "        if pooling_size != -1:\n",
    "            x = layers.MaxPooling1D(pool_size=pooling_size)(x)\n",
    "\n",
    "    # Move to fully-connected layer\n",
    "    x = layers.Flatten()(x)\n",
    "\n",
    "    for dense_size in fully_connected_layers:\n",
    "        x = layers.Dense(dense_size, activation='relu')(x) # dense_size == 1024\n",
    "        x = layers.Dropout(rate=dropout_p)(x)\n",
    "\n",
    "\n",
    "    # Output Layer\n",
    "    outputs = layers.Dense(1, activation='sigmoid')(x)\n",
    "    # Build model\n",
    "    model = models.Model(inputs=inputs, outputs=outputs)\n",
    "    model.compile(optimizer='adam', loss='binary_crossentropy', metrics=['accuracy'])\n",
    "    model.summary()"
   ]
  },
  {
   "cell_type": "code",
   "execution_count": 29,
   "metadata": {},
   "outputs": [],
   "source": [
    "if TRAIN:\n",
    "    training_successfully_finished = False\n",
    "    model.fit(train_data, train['base_class'],\n",
    "              batch_size=32,\n",
    "              epochs=10,\n",
    "              verbose=2)\n",
    "    training_successfully_finished = True\n",
    "\n",
    "    if training_successfully_finished:\n",
    "        joblib.dump(tokenizer, './temp-files/tokenizer.joblib')\n",
    "        model.save(\"./temp-files/model.h5\", overwrite=True)\n",
    "\n",
    "        if UPLOAD:\n",
    "            GoogleCloudStorageWrapper.lazy_upload_blob(bucket_name='communities-models',\n",
    "                                                       source_file_name='./temp-files/tokenizer.joblib',\n",
    "                                                       destination_blob_name=PATH + 'tokenizer.joblib')\n",
    "            GoogleCloudStorageWrapper.lazy_upload_blob(bucket_name='communities-models',\n",
    "                                                       source_file_name='./temp-files/model.h5',\n",
    "                                                       destination_blob_name=PATH + 'model.h5')"
   ]
  },
  {
   "cell_type": "markdown",
   "metadata": {},
   "source": [
    "## Model evaluation"
   ]
  },
  {
   "cell_type": "code",
   "execution_count": 30,
   "metadata": {},
   "outputs": [],
   "source": [
    "GoogleCloudStorageWrapper.lazy_download_blob(bucket_name='communities-models',\n",
    "                                             source_blob_name=PATH + 'tokenizer.joblib',\n",
    "                                             destination_file_name='./temp-files/tokenizer.joblib')\n",
    "GoogleCloudStorageWrapper.lazy_download_blob(bucket_name='communities-models',\n",
    "                                             source_blob_name=PATH + 'model.h5',\n",
    "                                             destination_file_name='./temp-files/model.h5')"
   ]
  },
  {
   "cell_type": "code",
   "execution_count": 31,
   "metadata": {},
   "outputs": [
    {
     "name": "stderr",
     "output_type": "stream",
     "text": [
      "/usr/local/lib/python3.5/dist-packages/tensorflow/python/ops/gradients_impl.py:112: UserWarning: Converting sparse IndexedSlices to a dense Tensor of unknown shape. This may consume a large amount of memory.\n",
      "  \"Converting sparse IndexedSlices to a dense Tensor of unknown shape. \"\n"
     ]
    }
   ],
   "source": [
    "model = models.load_model(\"./temp-files/model.h5\")\n",
    "tokenizer = joblib.load('./temp-files/tokenizer.joblib')"
   ]
  },
  {
   "cell_type": "code",
   "execution_count": 32,
   "metadata": {},
   "outputs": [],
   "source": [
    "from sklearn import metrics"
   ]
  },
  {
   "cell_type": "code",
   "execution_count": 33,
   "metadata": {},
   "outputs": [],
   "source": [
    "dev_ready = sequence.pad_sequences(\n",
    "    tokenizer.texts_to_sequences(dev['comment_text']), maxlen=MESSAGE_LEN_CHAR\n",
    ")"
   ]
  },
  {
   "cell_type": "code",
   "execution_count": 34,
   "metadata": {},
   "outputs": [
    {
     "name": "stdout",
     "output_type": "stream",
     "text": [
      "10000/10000 [==============================] - 3s 268us/step\n"
     ]
    }
   ],
   "source": [
    "predicted_probas = model.predict(dev_ready, verbose=1).squeeze()"
   ]
  },
  {
   "cell_type": "code",
   "execution_count": 35,
   "metadata": {},
   "outputs": [],
   "source": [
    "predicted = (predicted_probas > 0.5).astype(int)\n",
    "real = dev.loc[:, 'base_class']"
   ]
  },
  {
   "cell_type": "markdown",
   "metadata": {},
   "source": [
    "##### Single number metrics"
   ]
  },
  {
   "cell_type": "markdown",
   "metadata": {},
   "source": [
    "* Accuracy"
   ]
  },
  {
   "cell_type": "code",
   "execution_count": 36,
   "metadata": {},
   "outputs": [
    {
     "data": {
      "text/plain": [
       "0.9234"
      ]
     },
     "execution_count": 36,
     "metadata": {},
     "output_type": "execute_result"
    }
   ],
   "source": [
    "acc = metrics.accuracy_score(predicted, real)\n",
    "acc"
   ]
  },
  {
   "cell_type": "markdown",
   "metadata": {},
   "source": [
    "* Balanced accuracy"
   ]
  },
  {
   "cell_type": "code",
   "execution_count": 37,
   "metadata": {},
   "outputs": [
    {
     "data": {
      "text/plain": [
       "0.9272177761166085"
      ]
     },
     "execution_count": 37,
     "metadata": {},
     "output_type": "execute_result"
    }
   ],
   "source": [
    "b_acc = metrics.balanced_accuracy_score(predicted, real)\n",
    "b_acc"
   ]
  },
  {
   "cell_type": "markdown",
   "metadata": {},
   "source": [
    "* ROC-AUC"
   ]
  },
  {
   "cell_type": "code",
   "execution_count": 38,
   "metadata": {},
   "outputs": [
    {
     "data": {
      "text/plain": [
       "0.863059317441193"
      ]
     },
     "execution_count": 38,
     "metadata": {},
     "output_type": "execute_result"
    }
   ],
   "source": [
    "roc_auc = metrics.roc_auc_score(real, predicted_probas)\n",
    "roc_auc"
   ]
  },
  {
   "cell_type": "markdown",
   "metadata": {},
   "source": [
    "##### Confusion matrix"
   ]
  },
  {
   "cell_type": "code",
   "execution_count": 40,
   "metadata": {
    "scrolled": true
   },
   "outputs": [],
   "source": [
    "import matplotlib.pyplot as plt\n",
    "import seaborn as sns"
   ]
  },
  {
   "cell_type": "code",
   "execution_count": 41,
   "metadata": {
    "scrolled": false
   },
   "outputs": [
    {
     "data": {
      "text/plain": [
       "Text(0.5, 33.0, 'Predicted label')"
      ]
     },
     "execution_count": 41,
     "metadata": {},
     "output_type": "execute_result"
    },
    {
     "data": {
      "image/png": "[encoded data removed]",
      "text/plain": [
       "<Figure size 576x432 with 2 Axes>"
      ]
     },
     "metadata": {
      "needs_background": "light"
     },
     "output_type": "display_data"
    }
   ],
   "source": [
    "confusion_matrix = metrics.confusion_matrix(real, predicted)\n",
    "confusion_matrix = confusion_matrix.astype('float') / confusion_matrix.sum(axis=1)[:, np.newaxis]\n",
    "# cm_df = pd.DataFrame(confusion_matrix, index=[], columns=[])\n",
    "plt.figure(figsize=(8, 6))\n",
    "_ = sns.heatmap(confusion_matrix, cmap='BuGn')\n",
    "plt.ylabel('True label')\n",
    "plt.xlabel('Predicted label')"
   ]
  },
  {
   "cell_type": "markdown",
   "metadata": {},
   "source": [
    "##### Curves"
   ]
  },
  {
   "cell_type": "markdown",
   "metadata": {},
   "source": [
    "* ROC"
   ]
  },
  {
   "cell_type": "code",
   "execution_count": 42,
   "metadata": {},
   "outputs": [],
   "source": [
    "def plot_roc(fpr, tpr):\n",
    "    plt.figure(figsize=(8, 6))\n",
    "    lw = 2\n",
    "    plt.plot(fpr, tpr, color='darkorange', lw=lw, label='ROC curve (area = %0.2f)' % roc_auc)\n",
    "    plt.plot([0, 1], [0, 1], color='navy', lw=lw, linestyle='--')\n",
    "    plt.xlim([-0.02, 1.0])\n",
    "    plt.ylim([0.0, 1.02])\n",
    "    plt.xlabel('False Positive Rate')\n",
    "    plt.ylabel('True Positive Rate')\n",
    "    plt.title('Receiver operating characteristic')\n",
    "    plt.legend(loc=\"lower right\")\n",
    "    plt.show()"
   ]
  },
  {
   "cell_type": "code",
   "execution_count": 43,
   "metadata": {},
   "outputs": [
    {
     "data": {
      "image/png": "[encoded data removed]",
      "text/plain": [
       "<Figure size 576x432 with 1 Axes>"
      ]
     },
     "metadata": {
      "needs_background": "light"
     },
     "output_type": "display_data"
    }
   ],
   "source": [
    "fpr, tpr, thresholds_roc = metrics.roc_curve(real, predicted_probas)\n",
    "plot_roc(fpr, tpr)"
   ]
  },
  {
   "cell_type": "markdown",
   "metadata": {},
   "source": [
    "* precision recall curve"
   ]
  },
  {
   "cell_type": "code",
   "execution_count": 44,
   "metadata": {},
   "outputs": [],
   "source": [
    "def plot_prc(precision, recall):\n",
    "    plt.figure(figsize=(8, 6))\n",
    "    lw = 2\n",
    "    plt.plot(precision, recall, color='darkorange', lw=lw, label='PR curve')\n",
    "    plt.xlim([0.0, 1.01])\n",
    "    plt.ylim([0.0, 1.02])\n",
    "    plt.xlabel('Precision')\n",
    "    plt.ylabel('Recall')\n",
    "    plt.title('Precision-recall curve')\n",
    "    plt.legend(loc=\"lower right\")\n",
    "    plt.show()"
   ]
  },
  {
   "cell_type": "code",
   "execution_count": 45,
   "metadata": {},
   "outputs": [
    {
     "data": {
      "image/png": "[encoded data removed]",
      "text/plain": [
       "<Figure size 576x432 with 1 Axes>"
      ]
     },
     "metadata": {
      "needs_background": "light"
     },
     "output_type": "display_data"
    }
   ],
   "source": [
    "prec, rec, thresholds_prc = metrics.precision_recall_curve(real, predicted_probas)\n",
    "plot_prc(prec, rec)"
   ]
  },
  {
   "cell_type": "code",
   "execution_count": null,
   "metadata": {},
   "outputs": [],
   "source": []
  }
 ],
 "metadata": {
  "kernelspec": {
   "display_name": "Python 3",
   "language": "python",
   "name": "python3"
  },
  "language_info": {
   "codemirror_mode": {
    "name": "ipython",
    "version": 3
   },
   "file_extension": ".py",
   "mimetype": "text/x-python",
   "name": "python",
   "nbconvert_exporter": "python",
   "pygments_lexer": "ipython3",
   "version": "3.5.2"
  }
 },
 "nbformat": 4,
 "nbformat_minor": 2
}
